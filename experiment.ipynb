{
 "cells": [
  {
   "cell_type": "markdown",
   "metadata": {},
   "source": [
    "# Experiments\n",
    "\n",
    "In this jupyter notebook we test our modified Perceptron code from lab 2 and compare the accuracy results with our implementation of the AdaBoost algorithm"
   ]
  },
  {
   "cell_type": "markdown",
   "metadata": {},
   "source": [
    "### Imports and Dataset initiation:"
   ]
  },
  {
   "cell_type": "code",
   "execution_count": 88,
   "metadata": {},
   "outputs": [],
   "source": [
    "import numpy as np\n",
    "from sklearn.model_selection import train_test_split\n",
    "from sklearn.datasets import load_digits\n",
    "from perceptron import Perceptron\n",
    "from adaboost import AdaBoostSAMME\n",
    "\n",
    "# Load the digits dataset\n",
    "digits = load_digits()\n",
    "X, y = digits.data, digits.target\n",
    "\n",
    "# Split the data into training (80%) and testing (20%) sets\n",
    "X_train, X_test, y_train, y_test = train_test_split(X, y, test_size=0.2, random_state=42)"
   ]
  },
  {
   "cell_type": "markdown",
   "metadata": {},
   "source": [
    "### Training and Testing the Perceptron on different parameters:"
   ]
  },
  {
   "cell_type": "code",
   "execution_count": 89,
   "metadata": {},
   "outputs": [
    {
     "name": "stdout",
     "output_type": "stream",
     "text": [
      "Best Perceptron Accuracy: 96.11%\n",
      "Best Parameters: alpha=0.0001, epochs=10\n"
     ]
    }
   ],
   "source": [
    "# Define a list of alpha values and epochs to test\n",
    "alpha_values = [0.0001, 0.001, 0.01, 0.1, 1]\n",
    "epoch_values = [10, 50, 100, 150, 200]\n",
    "\n",
    "# Variable to store the best accuracy and corresponding parameters\n",
    "best_accuracy = 0\n",
    "best_alpha = None\n",
    "best_epochs = None\n",
    "\n",
    "# Loop over all combinations of alpha and epochs\n",
    "for alpha in alpha_values:\n",
    "    for epochs in epoch_values:\n",
    "        # Initialize and train the perceptron\n",
    "        perceptron = Perceptron(alpha=alpha, n_classes=10)\n",
    "        perceptron.train(X_train, y_train, epochs=epochs)\n",
    "        \n",
    "        # Predict labels on the test data\n",
    "        y_pred_perceptron = perceptron.predict(X_test)\n",
    "        \n",
    "        # Calculate accuracy\n",
    "        accuracy = np.mean(y_pred_perceptron == y_test) * 100\n",
    "        \n",
    "        # Update best accuracy if this configuration is better\n",
    "        if accuracy > best_accuracy:\n",
    "            best_accuracy = accuracy\n",
    "            best_alpha = alpha\n",
    "            best_epochs = epochs\n",
    "\n",
    "# Store the best accuracy result\n",
    "accuracy_perceptron = best_accuracy\n",
    "\n",
    "# Print the best accuracy and corresponding parameters\n",
    "print(f\"Best Perceptron Accuracy: {accuracy_perceptron:.2f}%\")\n",
    "print(f\"Best Parameters: alpha={best_alpha}, epochs={best_epochs}\")\n"
   ]
  },
  {
   "cell_type": "markdown",
   "metadata": {},
   "source": [
    "### Training and Testing AdaBoost with Perceptron as the Base Learner:"
   ]
  },
  {
   "cell_type": "code",
   "execution_count": 90,
   "metadata": {},
   "outputs": [
    {
     "name": "stdout",
     "output_type": "stream",
     "text": [
      "Best AdaBoost Accuracy: 96.67%\n",
      "Best number of estimators: 14\n"
     ]
    }
   ],
   "source": [
    "# Define the numbers of estimators to test\n",
    "n_estimators_list = [1, 5, 10, 12, 14, 16, 18]\n",
    "\n",
    "# Variable to store the best accuracy and corresponding number of estimators\n",
    "best_accuracy = 0\n",
    "best_n_estimators = 0\n",
    "\n",
    "# Iterate over the list of n_estimators\n",
    "for n_estimators in n_estimators_list:\n",
    "    # Initialize AdaBoost with the current number of estimators\n",
    "    adaboost = AdaBoostSAMME(base_learner_class=Perceptron, n_classes=10, n_estimators=n_estimators)\n",
    "    \n",
    "    # Train AdaBoost\n",
    "    adaboost.train(X_train, y_train)\n",
    "    \n",
    "    # Predict on the test set\n",
    "    y_pred_adaboost = adaboost.predict(X_test)\n",
    "    \n",
    "    # Calculate accuracy\n",
    "    accuracy = np.mean(y_pred_adaboost == y_test) * 100\n",
    "    \n",
    "    # Update the best accuracy and corresponding n_estimators\n",
    "    if accuracy > best_accuracy:\n",
    "        best_accuracy = accuracy\n",
    "        best_n_estimators = n_estimators\n",
    "\n",
    "# Save the best accuracy to accuracy_adaboost\n",
    "accuracy_adaboost = best_accuracy\n",
    "\n",
    "# Print the best accuracy and corresponding number of estimators\n",
    "print(f\"Best AdaBoost Accuracy: {accuracy_adaboost:.2f}%\")\n",
    "print(f\"Best number of estimators: {best_n_estimators}\")\n"
   ]
  },
  {
   "cell_type": "code",
   "execution_count": 91,
   "metadata": {},
   "outputs": [
    {
     "name": "stdout",
     "output_type": "stream",
     "text": [
      "                      Model  Accuracy (%)\n",
      "0                Perceptron     96.111111\n",
      "1  AdaBoost with Perceptron     96.666667\n"
     ]
    }
   ],
   "source": [
    "import pandas as pd\n",
    "\n",
    "# Create a DataFrame to display the results\n",
    "results = pd.DataFrame({\n",
    "    \"Model\": [\"Perceptron\", \"AdaBoost with Perceptron\"],\n",
    "    \"Accuracy (%)\": [accuracy_perceptron, accuracy_adaboost]\n",
    "})\n",
    "\n",
    "# Display the results\n",
    "print(results)\n"
   ]
  }
 ],
 "metadata": {
  "kernelspec": {
   "display_name": "Python 3",
   "language": "python",
   "name": "python3"
  },
  "language_info": {
   "codemirror_mode": {
    "name": "ipython",
    "version": 3
   },
   "file_extension": ".py",
   "mimetype": "text/x-python",
   "name": "python",
   "nbconvert_exporter": "python",
   "pygments_lexer": "ipython3",
   "version": "3.12.0"
  }
 },
 "nbformat": 4,
 "nbformat_minor": 2
}
